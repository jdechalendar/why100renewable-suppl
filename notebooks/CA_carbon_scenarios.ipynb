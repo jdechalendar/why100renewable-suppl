{
 "cells": [
  {
   "cell_type": "markdown",
   "metadata": {},
   "source": [
    "# Contents\n",
    "* Generate scenarios for the CA grid mix based off of 2016 - in particular we will use scenario 3X to represent 2025"
   ]
  },
  {
   "cell_type": "code",
   "execution_count": null,
   "metadata": {
    "collapsed": false
   },
   "outputs": [],
   "source": [
    "%matplotlib inline\n",
    "\n",
    "import sys\n",
    "import os\n",
    "\n",
    "import matplotlib.pyplot as plt\n",
    "\n",
    "import pandas as pd\n",
    "import numpy as np\n",
    "\n",
    "import plotly\n",
    "import plotly.graph_objs as go \n",
    "plotly.offline.init_notebook_mode()\n",
    "GRAPH_CONFIG = {'showLink': False, 'displaylogo': False,                         \n",
    "                'modeBarButtonsToRemove':['sendDataToCloud']}\n",
    "from plotly.colors import DEFAULT_PLOTLY_COLORS"
   ]
  },
  {
   "cell_type": "code",
   "execution_count": null,
   "metadata": {
    "collapsed": false
   },
   "outputs": [],
   "source": [
    "pthNm = \"../data/CAISO_DailyRenewablesWatch\"\n",
    "df = pd.read_csv(os.path.join(pthNm, 'DailyRenewablesWatch_2016.csv'), index_col=0,\n",
    "                 parse_dates=True)\n",
    "\n",
    "cols = [col for col in df.columns if col != 'carbon']\n",
    "df[\"total\"] = df[cols].sum(axis=1)\n",
    "CARBON_INTENSITY = {\"biogas\":18, \"biomass\":18, \"geo\":42, \"hydro\":4,\n",
    "                    \"imports\":428, \"nuclear\":16, \"smhydro\":4,\n",
    "                    \"solarpv\":46, \"solarth\":22, \"thermal\":469, \"wind\":12}\n",
    "\n",
    "df[\"carbon\"] = df.apply(lambda row: sum(row[fuel]*CARBON_INTENSITY[fuel]\n",
    "                                       for fuel in CARBON_INTENSITY)/1e3, axis=1)"
   ]
  },
  {
   "cell_type": "code",
   "execution_count": null,
   "metadata": {
    "collapsed": false
   },
   "outputs": [],
   "source": [
    "df.head()"
   ]
  },
  {
   "cell_type": "code",
   "execution_count": null,
   "metadata": {
    "collapsed": false
   },
   "outputs": [],
   "source": [
    "# Initial grid mix\n",
    "tot=0\n",
    "for col in cols:\n",
    "    prct = 100*df[col].sum()/df[\"total\"].sum()\n",
    "    print(\"%s: %.2f\"%(col,prct))\n",
    "    tot+=prct\n",
    "print(\"total: %.2f\"%tot)"
   ]
  },
  {
   "cell_type": "code",
   "execution_count": null,
   "metadata": {
    "collapsed": false,
    "scrolled": true
   },
   "outputs": [],
   "source": [
    "# generate scenarios\n",
    "frames=dict()\n",
    "for x in [0,1,2,4,6]:\n",
    "    print(\"\\n\\n\\n\",x)\n",
    "    print(\"max overgen power on grid (GW)\")\n",
    "    print(min(df.total - (1+x) * df.solarpv)/1e3)\n",
    "\n",
    "    df_solar = df.copy()\n",
    "\n",
    "    # reduce thermal, but don't go negative\n",
    "    df_solar.thermal = df_solar.apply(\n",
    "        lambda row : max(row.thermal - x*row.solarpv, 0), axis=1)\n",
    "\n",
    "    # take all the solar\n",
    "    df_solar.solarpv = df_solar.apply(\n",
    "        lambda row : (1 + x) * row.solarpv, axis=1)\n",
    "\n",
    "    overgenP = df_solar.total - df_solar[cols].sum(axis=1)\n",
    "    overgen = overgenP.sum()\n",
    "\n",
    "    print(\"overgen energy %\")\n",
    "    print(100 * overgen/df_solar.total.sum())\n",
    "    print(overgen)\n",
    "    # reduce imports if needed\n",
    "    if overgen<-1*1e5:\n",
    "        print(\"Reducing imports as well\")\n",
    "        df_solar.imports = (df_solar.imports + overgenP)\n",
    "        df_solar.imports = df_solar.apply(\n",
    "            lambda row: max(row.imports, 0), axis=1)\n",
    "        overgen = (df_solar.total - df_solar[cols].sum(axis=1)).sum()\n",
    "\n",
    "\n",
    "    # reshape the gas/imports homogeneously to accomodate\n",
    "    print(\"overgen energy %\")\n",
    "    print(100 * overgen/df_solar.total.sum())\n",
    "    print(overgen)\n",
    "    it=0\n",
    "    while overgen<-1*1e3: # GWh\n",
    "        it+=1\n",
    "        if it%2==0:\n",
    "            df_solar.thermal = df_solar.thermal.apply(\n",
    "                lambda x:max(x+overgen/len(df_solar),0))\n",
    "        else:\n",
    "            df_solar.imports = df_solar.imports.apply(\n",
    "                lambda x:max(x+overgen/len(df_solar),0))\n",
    "        overgen = (df_solar.total - df_solar[cols].sum(axis=1)).sum()\n",
    "        if sum(df_solar.thermal)<1e3 and sum(df_solar.imports)<1e-3:\n",
    "            print(\"Too much solar!\")\n",
    "\n",
    "    print(\"there is %.2f overgen after %d iterations\"%(overgen,it))\n",
    "\n",
    "    # recalculate carbon intensity and total carbon of the grid\n",
    "    df_solar[\"carbon\"] = df_solar.apply(\n",
    "        lambda row:sum(row[fuel]*CARBON_INTENSITY[fuel]\n",
    "                       for fuel in CARBON_INTENSITY)/1e3, axis=1)\n",
    "    df_solar[\"carbon_intensity\"] = df_solar.apply(\n",
    "        lambda row:row[\"carbon\"]*1e3/row[\"total\"], axis=1)\n",
    "\n",
    "    # print summary stats\n",
    "    print(\"old total gen (TWh)\")\n",
    "    print(df.total.sum()/1e6)\n",
    "    print(\"new total gen (TWh)\")\n",
    "    print(df_solar.total.sum()/1e6)\n",
    "    print(\"new total gen (TWh) - sanity\")\n",
    "    print(df_solar[cols].sum(axis=1).sum()/1e6)\n",
    "    print(\"solar energy %\")\n",
    "    print(100*df_solar.solarpv.sum()/df_solar.total.sum())\n",
    "    print(\"gas energy %\")\n",
    "    print(100*df_solar.thermal.sum()/df_solar.total.sum())\n",
    "    print(\"imports %\")\n",
    "    print(100*df_solar.imports.sum()/df_solar.total.sum())\n",
    "    #print(\"max solar GW (old)\")\n",
    "    #print(max(df_watttime.fuel_solar)/1e3)\n",
    "    print(\"max solar (GW)\")\n",
    "    print(max(df_solar.solarpv)/1e3)\n",
    "    print(\"Solar Gen (TWh)\")\n",
    "    print(df_solar.solarpv.sum()/1e6)\n",
    "    print(\"CO2 emissions (Mtonnes)\")\n",
    "    print(df_solar.carbon.sum()/1e6)\n",
    "    print(\"Yearly CO2 emissions reduction (%)\")\n",
    "    print(100*(1-df_solar.carbon.sum()/df.carbon.sum()))\n",
    "    \n",
    "    frames[x] = df_solar"
   ]
  },
  {
   "cell_type": "markdown",
   "metadata": {},
   "source": [
    "# Plot monthly emissions\n",
    "For these scenarios and compare to what I downloaded from the CAISO website. Note that I use LCA numbers to compute emissions from the grid mix. CAISO may be using direct emissions estimates"
   ]
  },
  {
   "cell_type": "code",
   "execution_count": null,
   "metadata": {
    "collapsed": false
   },
   "outputs": [],
   "source": [
    "graycols=['rgb(200,200,220)','rgb(150,150,150)','rgb(100,100,100)',\n",
    "          None,'rgb(50,50,50)']\n",
    "\n",
    "df_hist = pd.read_csv(os.path.join(pthNm, 'CAISO-historical-co2.csv'))\n",
    "cols=df_hist.columns[1:]\n",
    "\n",
    "plot_data = []\n",
    "\n",
    "df[\"month\"] = df.index.month\n",
    "\n",
    "for x in frames:\n",
    "    df_solar = frames[x]\n",
    "    df_solar[\"month\"] = df_solar.index.month\n",
    "    lineLab = \"x\"+str(x+1)\n",
    "    if x==0:\n",
    "        lineLab+=\" (2016)\"\n",
    "    plot_data += [go.Scatter(name = lineLab,\n",
    "                      x=cols,\n",
    "                      y=df_solar.loc[:, [\"month\", \"carbon\"]]\\\n",
    "                             .groupby(\"month\").sum().values.flatten()/1e6\n",
    "                     )]\n",
    "\n",
    "# make subplot to show historical data\n",
    "for i, year in enumerate(range(2013,2018)):\n",
    "    if i==3:\n",
    "        color=DEFAULT_PLOTLY_COLORS[0]\n",
    "    else:\n",
    "        color = graycols[i]\n",
    "            \n",
    "    dfp = pd.read_csv(pthNm+'/DailyRenewablesWatch_' + str(year)+'.csv',\n",
    "                      index_col=0, parse_dates=True)\n",
    "    dfp[\"month\"] = dfp.index.month\n",
    "    \n",
    "    # recalculate carbon\n",
    "    dfp[\"carbon\"] = dfp.apply(\n",
    "        lambda row:sum(row[fuel]*CARBON_INTENSITY[fuel]\n",
    "                       for fuel in CARBON_INTENSITY)/1e3, axis=1)\n",
    "    plot_data += [go.Scatter(name = str(year),\n",
    "                      x=cols,\n",
    "                      xaxis='x2',\n",
    "                      y=dfp.loc[:, [\"month\", \"carbon\"]]\\\n",
    "                             .groupby(\"month\").sum().values.flatten()/1e6,\n",
    "                      line = dict(color = color)\n",
    "                     )]\n",
    "    if i>0:\n",
    "        \n",
    "        plot_data += [go.Scatter(name = str(year)+'a',\n",
    "                          x=cols,\n",
    "                          xaxis='x2',       \n",
    "                          y=df_hist[cols][df_hist.year==year]\\\n",
    "                                 .values[0]/1e6,\n",
    "                          line = dict(dash='dash',\n",
    "                                      color = color)\n",
    "                         )]\n",
    "\n",
    "layout = dict(\n",
    "    font=dict(size=18),\n",
    "    autosize=False,\n",
    "    width=2*650,\n",
    "    height=500,\n",
    "    title='Monthly CO2 Emissions',\n",
    "    xaxis=dict(domain=[0, 0.49]),\n",
    "    xaxis2=dict(domain=[0.51, 1]),\n",
    "    yaxis=dict(title='mTCO2 (millions)',\n",
    "               range=[0,8]),\n",
    "    annotations=[{'font': {'size': 22},\n",
    "                      'showarrow': False,\n",
    "                      'text': 'Scenarios',\n",
    "                      'x': 0.225,\n",
    "                      'xanchor': 'center',\n",
    "                      'xref': 'paper',\n",
    "                      'y': 1.0,\n",
    "                       'yanchor': 'bottom',\n",
    "                       'yref': 'paper'},\n",
    "                      {'font': {'size': 22},\n",
    "                       'showarrow': False,\n",
    "                       'text': 'Historical',\n",
    "                       'x': 0.775,\n",
    "                       'xanchor': 'center',\n",
    "                       'xref': 'paper',\n",
    "                       'y': 1.0,\n",
    "                       'yanchor': 'bottom',\n",
    "                       'yref': 'paper'}])\n",
    "\n",
    "fig = go.Figure(data=plot_data, layout=layout)\n",
    "plotly.offline.iplot(fig, config=GRAPH_CONFIG)"
   ]
  },
  {
   "cell_type": "code",
   "execution_count": null,
   "metadata": {
    "collapsed": true
   },
   "outputs": [],
   "source": [
    "for x in frames:\n",
    "    df_extract = frames[x].loc[:,['carbon_intensity']]\n",
    "    df_extract.to_csv(\"../data/carbon_scenarios/carbon_x%d.csv\" % x)"
   ]
  },
  {
   "cell_type": "code",
   "execution_count": null,
   "metadata": {
    "collapsed": true
   },
   "outputs": [],
   "source": []
  }
 ],
 "metadata": {
  "anaconda-cloud": {},
  "kernelspec": {
   "display_name": "Python [conda env:anaconda3]",
   "language": "python",
   "name": "conda-env-anaconda3-py"
  },
  "language_info": {
   "codemirror_mode": {
    "name": "ipython",
    "version": 3
   },
   "file_extension": ".py",
   "mimetype": "text/x-python",
   "name": "python",
   "nbconvert_exporter": "python",
   "pygments_lexer": "ipython3",
   "version": "3.5.6"
  }
 },
 "nbformat": 4,
 "nbformat_minor": 2
}
