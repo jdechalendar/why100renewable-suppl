{
 "cells": [
  {
   "cell_type": "code",
   "execution_count": null,
   "metadata": {
    "collapsed": true
   },
   "outputs": [],
   "source": [
    "%matplotlib inline\n",
    "import sys\n",
    "import os\n",
    "\n",
    "import pandas as pd\n",
    "import numpy as np\n",
    "import json\n",
    "from datetime import datetime\n",
    "\n",
    "import matplotlib.pyplot as plt\n",
    "\n",
    "COLORS = [(0.12109375, 0.46484375, 0.703125),\n",
    "          (0.99609375, 0.49609375, 0.0546875),\n",
    "          (0.171875, 0.625, 0.171875),\n",
    "          (0.8359375, 0.15234375, 0.15625),\n",
    "          (0.578125, 0.40234375, 0.73828125),\n",
    "          (0.546875, 0.3359375, 0.29296875),\n",
    "          (0.88671875, 0.46484375, 0.7578125),\n",
    "          (0.49609375, 0.49609375, 0.49609375),\n",
    "          (0.734375, 0.73828125, 0.1328125),\n",
    "          (0.08984375, 0.7421875, 0.80859375)]\n",
    "\n",
    "import calendar\n",
    "\n",
    "# Set font sizes\n",
    "SMALL_SIZE = 16\n",
    "MEDIUM_SIZE = 18\n",
    "BIGGER_SIZE = 20\n",
    "                \n",
    "plt.rc('font', size=SMALL_SIZE)          # controls default text sizes\n",
    "plt.rc('axes', titlesize=SMALL_SIZE)     # fontsize of the axes title\n",
    "plt.rc('axes', labelsize=MEDIUM_SIZE)    # fontsize of the x and y labels\n",
    "plt.rc('xtick', labelsize=SMALL_SIZE)    # fontsize of the tick labels\n",
    "plt.rc('ytick', labelsize=SMALL_SIZE)    # fontsize of the tick labels\n",
    "plt.rc('legend', fontsize=SMALL_SIZE)    # legend fontsize\n",
    "plt.rc('figure', titlesize=BIGGER_SIZE)  # fontsize of the figure title"
   ]
  },
  {
   "cell_type": "code",
   "execution_count": null,
   "metadata": {
    "collapsed": true
   },
   "outputs": [],
   "source": [
    "def loadCAISO(year):\n",
    "    dfp = pd.read_csv(os.path.join(\"../data/CAISO_DailyRenewablesWatch\", 'DailyRenewablesWatch_%d.csv' % year),\n",
    "                      index_col=0, parse_dates=True)\n",
    "    dfp.index -= pd.Timedelta('7h')\n",
    "\n",
    "    cols = [col for col in dfp.columns if col != 'carbon']\n",
    "    dfp[\"total\"] = dfp[cols].sum(axis=1)\n",
    "    CARBON_INTENSITY = {\"biogas\":18, \"biomass\":18, \"geo\":42, \"hydro\":4,\n",
    "                        \"imports\":428, \"nuclear\":16, \"smhydro\":4, \"solarpv\":46, \"solarth\":22,\n",
    "                        \"thermal\":469, \"wind\":12}\n",
    "\n",
    "    # recalculate carbon without the exports\n",
    "    dfp[\"carbon\"] = dfp.apply(lambda row:sum(row[fuel]*CARBON_INTENSITY[fuel]\n",
    "                                           for fuel in CARBON_INTENSITY)/1e3, axis=1)\n",
    "    dfp[\"carbon_intensity\"] = dfp.apply(lambda row:row[\"carbon\"]*1e3/row[\"total\"], axis=1)\n",
    "    return dfp\n",
    "\n",
    "df = pd.concat([loadCAISO(y) for y in [2015,2016,2017,2018]])\n",
    "\n",
    "df.dropna(inplace=True)\n",
    "df.loc[:, 'year'] = df.index.year\n",
    "df.loc[:, 'month'] = df.index.month\n",
    "df.loc[:, 'hour'] = df.index.hour"
   ]
  },
  {
   "cell_type": "code",
   "execution_count": null,
   "metadata": {
    "collapsed": false
   },
   "outputs": [],
   "source": [
    "df_c = pd.read_csv(\"../data/curtailmentsMonthly.csv\", index_col=0, parse_dates=True, usecols=[0, 1], names=[\"date\", 'curtailment'], skiprows=1)\n",
    "f, ax = plt.subplots()\n",
    "ax.plot(df_c.curtailment/1000, marker='o')\n",
    "ax.grid()\n",
    "ax.set_xlabel(\"month\")\n",
    "ax.set_ylabel(\"GWh\")"
   ]
  },
  {
   "cell_type": "code",
   "execution_count": null,
   "metadata": {
    "collapsed": false,
    "scrolled": true
   },
   "outputs": [],
   "source": [
    "df_monthly = df.loc[:, [\"year\", \"month\", \"solarpv\", \"wind\"]].groupby([\"year\", \"month\"]).sum().reset_index()\n",
    "df_monthly.index = pd.to_datetime(df_monthly.year*10000+df_monthly.month*100+1,format='%Y%m%d')\n",
    "df_monthly[\"gen\"] = df_monthly.solarpv + df_monthly.wind"
   ]
  },
  {
   "cell_type": "code",
   "execution_count": null,
   "metadata": {
    "collapsed": false
   },
   "outputs": [],
   "source": [
    "f, ax = plt.subplots()\n",
    "ax.plot(df_monthly.gen/1000, marker='o')\n",
    "ax.plot(df_c.curtailment/1000, marker='o')\n",
    "ax.grid()\n",
    "ax.set_xlabel(\"month\")\n",
    "ax.set_ylabel(\"GWh\")\n",
    "f.autofmt_xdate()"
   ]
  },
  {
   "cell_type": "code",
   "execution_count": null,
   "metadata": {
    "collapsed": false
   },
   "outputs": [],
   "source": [
    "f, ax = plt.subplots()\n",
    "ax.plot(df_c.curtailment/df_monthly.gen*100, marker='o')\n",
    "ax.grid()\n",
    "ax.set_xlabel(\"month\")\n",
    "ax.set_ylabel(\"Monthly curtailment (%)\")\n",
    "f.autofmt_xdate()"
   ]
  },
  {
   "cell_type": "code",
   "execution_count": null,
   "metadata": {
    "collapsed": false
   },
   "outputs": [],
   "source": [
    "df_c.curtailment/df_monthly.gen*100"
   ]
  },
  {
   "cell_type": "code",
   "execution_count": null,
   "metadata": {
    "collapsed": true
   },
   "outputs": [],
   "source": []
  }
 ],
 "metadata": {
  "anaconda-cloud": {},
  "kernelspec": {
   "display_name": "Python [conda env:anaconda3]",
   "language": "python",
   "name": "conda-env-anaconda3-py"
  },
  "language_info": {
   "codemirror_mode": {
    "name": "ipython",
    "version": 3
   },
   "file_extension": ".py",
   "mimetype": "text/x-python",
   "name": "python",
   "nbconvert_exporter": "python",
   "pygments_lexer": "ipython3",
   "version": "3.5.6"
  }
 },
 "nbformat": 4,
 "nbformat_minor": 2
}
