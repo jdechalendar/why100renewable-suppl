{
 "cells": [
  {
   "cell_type": "markdown",
   "metadata": {},
   "source": [
    "# Contents\n",
    "Reload data from `CAISO_efs.ipynb` and `UK_efs.ipynb` to generate figure 1 according to Joule submission guidelines"
   ]
  },
  {
   "cell_type": "code",
   "execution_count": null,
   "metadata": {
    "collapsed": false
   },
   "outputs": [],
   "source": [
    "%matplotlib inline\n",
    "import pandas as pd\n",
    "import matplotlib.pyplot as plt\n",
    "\n",
    "COLORS = [(0.12109375, 0.46484375, 0.703125),\n",
    "          (0.99609375, 0.49609375, 0.0546875),\n",
    "          (0.171875, 0.625, 0.171875),\n",
    "          (0.8359375, 0.15234375, 0.15625),\n",
    "          (0.578125, 0.40234375, 0.73828125),\n",
    "          (0.546875, 0.3359375, 0.29296875),\n",
    "          (0.88671875, 0.46484375, 0.7578125),\n",
    "          (0.49609375, 0.49609375, 0.49609375),\n",
    "          (0.734375, 0.73828125, 0.1328125),\n",
    "          (0.08984375, 0.7421875, 0.80859375)]\n",
    "\n",
    "import calendar\n",
    "\n",
    "# Set font sizes\n",
    "SMALL_SIZE = 7\n",
    "MEDIUM_SIZE = 8\n",
    "BIGGER_SIZE = 9\n",
    "\n",
    "# column sizes\n",
    "cm_to_in = 0.393701\n",
    "col_width3 = cm_to_in * 17.2\n",
    "col_width2 = cm_to_in * 11.2\n",
    "col_width1 = cm_to_in * 5.3\n",
    "\n",
    "from matplotlib import rcParams\n",
    "rcParams['font.family'] = 'sans-serif'\n",
    "rcParams['font.sans-serif'] = ['Avenir']\n",
    "\n",
    "plt.rc('font', size=SMALL_SIZE)          # controls default text sizes\n",
    "plt.rc('axes', titlesize=SMALL_SIZE)     # fontsize of the axes title\n",
    "plt.rc('axes', labelsize=MEDIUM_SIZE)    # fontsize of the x and y labels\n",
    "plt.rc('xtick', labelsize=SMALL_SIZE)    # fontsize of the tick labels\n",
    "plt.rc('ytick', labelsize=SMALL_SIZE)    # fontsize of the tick labels\n",
    "plt.rc('legend', fontsize=SMALL_SIZE)    # legend fontsize\n",
    "plt.rc('figure', titlesize=BIGGER_SIZE)  # fontsize of the figure title\n",
    "plt.rc('axes', linewidth=.5)  # fontsize of the figure title\n",
    "plt.rc('xtick.minor', width=.5)  # fontsize of the figure title\n",
    "plt.rc('xtick.major', width=.5)  # fontsize of the figure title\n",
    "plt.rc('ytick.minor', width=.5)  # fontsize of the figure title\n",
    "plt.rc('ytick.major', width=.5)  # fontsize of the figure title\n",
    "\n",
    "CARBON_INTENSITY = {\"biomass\": 18, \"hydro\": 4, \"nuclear\": 16,\n",
    "                    \"solar\": 46, \"gas\": 469, \"wind\": 12,\n",
    "                    \"coal\": 1001, \"oil\": 840}"
   ]
  },
  {
   "cell_type": "code",
   "execution_count": null,
   "metadata": {
    "collapsed": false
   },
   "outputs": [],
   "source": [
    "# Reload data\n",
    "CA_mefs = pd.read_csv('figures/CA_mefs.csv', index_col=0)\n",
    "CA_aefs = pd.read_csv('figures/CA_aefs.csv', index_col=0)\n",
    "\n",
    "UK_mefs = pd.read_csv('figures/UK_mefs.csv', index_col=0)\n",
    "UK_aefs = pd.read_csv('figures/UK_aefs.csv', index_col=0)\n",
    "\n",
    "for df in [CA_mefs, CA_aefs, UK_mefs, UK_aefs]:\n",
    "    df.columns = [int(col) for col in df.columns]"
   ]
  },
  {
   "cell_type": "code",
   "execution_count": null,
   "metadata": {
    "collapsed": false
   },
   "outputs": [],
   "source": [
    "fig, ax = plt.subplots(figsize=(col_width3, 2.5))\n",
    "\n",
    "ax.axis('off')\n",
    "\n",
    "width = 0.35\n",
    "height = 0.65\n",
    "left1 = 0.08\n",
    "left2 = 0.63\n",
    "bottom = 0.2\n",
    "ax1 = fig.add_axes([left1, bottom, width, height])\n",
    "ax2 = fig.add_axes([left2, bottom, width, height])\n",
    "\n",
    "lw=1\n",
    "ms=1.5\n",
    "\n",
    "ax1.plot([], [], label=\"AEFs\", color=(.33,.33,.33), marker='o',\n",
    "         ms=ms, lw=lw)\n",
    "ax1.plot([], [], label=\"MEFs\", color=(.33,.33,.33), lw=lw)\n",
    "\n",
    "\n",
    "for ax, aefs, mefs, ax_title, ylim, yticks, leglab in zip(\n",
    "        [ax1, ax2], [CA_aefs, UK_aefs],\n",
    "        [CA_mefs, UK_mefs],\n",
    "        ['(a) California: hourly AEFs and MEFs',\n",
    "         '(b) Great Britain: hourly AEFs and MEFs'],\n",
    "        [[0,500], [0,800]],\n",
    "        [[0, 200, 400], [0, 150, 300, 600, 750]],\n",
    "        [True, False]):\n",
    "    ax.axvspan(0, 6, facecolor='b', alpha=0.05)\n",
    "    ax.axvspan(19, 23, facecolor='b', alpha=0.05)\n",
    "    ax.axvspan(6, 19, facecolor='y', alpha=0.05)\n",
    "    ax.text(.5, .05, \"Day\", fontsize=BIGGER_SIZE, ha='center', transform=ax.transAxes)\n",
    "    ax.text(.02, .05, \"Night\", fontsize=BIGGER_SIZE, ha='left', transform=ax.transAxes)\n",
    "    ax.text(.98, .05, \"Night\", fontsize=BIGGER_SIZE, ha='right', transform=ax.transAxes)\n",
    "    \n",
    "    for i, y in enumerate(range(2015, 2019)):\n",
    "        label = '__nolegend__'\n",
    "        if leglab:\n",
    "            label = str(y)\n",
    "        \n",
    "        ax.plot(mefs[y], label=label, color=COLORS[i], lw=lw)\n",
    "        ax.plot(aefs[y], color=COLORS[i], marker='o',\n",
    "                label='__nolegend__', lw=lw, ms=ms)\n",
    "\n",
    "    ax.grid(True)\n",
    "    ax.set_xlim([0,23])\n",
    "    ax.set_ylim(ylim)\n",
    "    ax.set_xlabel('Hour of the day')\n",
    "    ax.set_title(ax_title, fontsize=BIGGER_SIZE);\n",
    "    ax.set_ylabel('kg/MWh');\n",
    "    ax.set_yticks(yticks)\n",
    "    ax.set_yticks([CARBON_INTENSITY[\"solar\"], CARBON_INTENSITY[\"gas\"]], minor=True)\n",
    "    ax.set_yticklabels([\"Solar\", \"Gas\"], minor=True, fontweight='bold')\n",
    "    ax.grid(linewidth=.5)\n",
    "\n",
    "i += 1\n",
    "ax1.plot(CA_mefs[2025], label=str(2025), color=COLORS[i], lw=lw)\n",
    "ax1.plot(CA_aefs[2025], label=\"__nolegend__\", marker='o',\n",
    "         color=COLORS[i], lw=lw, ms=ms)\n",
    "ax1.legend(loc=2, bbox_to_anchor=(1.05, .8))\n",
    "\n",
    "#plt.savefig('figures/fig1.pdf', bbox_inches='tight')\n",
    "plt.savefig('figures/fig1.pdf', dpi=300)\n",
    "plt.savefig('figures/fig1.png', dpi=300)"
   ]
  },
  {
   "cell_type": "code",
   "execution_count": null,
   "metadata": {
    "collapsed": true
   },
   "outputs": [],
   "source": []
  }
 ],
 "metadata": {
  "anaconda-cloud": {},
  "kernelspec": {
   "display_name": "Python [conda env:anaconda3]",
   "language": "python",
   "name": "conda-env-anaconda3-py"
  },
  "language_info": {
   "codemirror_mode": {
    "name": "ipython",
    "version": 3
   },
   "file_extension": ".py",
   "mimetype": "text/x-python",
   "name": "python",
   "nbconvert_exporter": "python",
   "pygments_lexer": "ipython3",
   "version": "3.5.6"
  }
 },
 "nbformat": 4,
 "nbformat_minor": 2
}
