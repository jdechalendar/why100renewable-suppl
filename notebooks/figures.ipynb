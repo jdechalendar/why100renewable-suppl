{
 "cells": [
  {
   "cell_type": "code",
   "execution_count": null,
   "metadata": {
    "collapsed": false
   },
   "outputs": [],
   "source": [
    "%matplotlib inline\n",
    "import sys\n",
    "import os\n",
    "\n",
    "import pandas as pd\n",
    "import numpy as np\n",
    "import json\n",
    "from datetime import datetime\n",
    "\n",
    "import matplotlib.pyplot as plt\n",
    "\n",
    "COLORS = [(0.12109375, 0.46484375, 0.703125),\n",
    "          (0.99609375, 0.49609375, 0.0546875),\n",
    "          (0.171875, 0.625, 0.171875),\n",
    "          (0.8359375, 0.15234375, 0.15625),\n",
    "          (0.578125, 0.40234375, 0.73828125),\n",
    "          (0.546875, 0.3359375, 0.29296875),\n",
    "          (0.88671875, 0.46484375, 0.7578125),\n",
    "          (0.49609375, 0.49609375, 0.49609375),\n",
    "          (0.734375, 0.73828125, 0.1328125),\n",
    "          (0.08984375, 0.7421875, 0.80859375)]\n",
    "\n",
    "import calendar\n",
    "\n",
    "# Set font sizes\n",
    "SMALL_SIZE = 16\n",
    "MEDIUM_SIZE = 18\n",
    "BIGGER_SIZE = 20\n",
    "                \n",
    "plt.rc('font', size=SMALL_SIZE)          # controls default text sizes\n",
    "plt.rc('axes', titlesize=SMALL_SIZE)     # fontsize of the axes title\n",
    "plt.rc('axes', labelsize=MEDIUM_SIZE)    # fontsize of the x and y labels\n",
    "plt.rc('xtick', labelsize=SMALL_SIZE)    # fontsize of the tick labels\n",
    "plt.rc('ytick', labelsize=SMALL_SIZE)    # fontsize of the tick labels\n",
    "plt.rc('legend', fontsize=SMALL_SIZE)    # legend fontsize\n",
    "plt.rc('figure', titlesize=BIGGER_SIZE)  # fontsize of the figure title"
   ]
  },
  {
   "cell_type": "code",
   "execution_count": null,
   "metadata": {
    "collapsed": false
   },
   "outputs": [],
   "source": [
    "CARBON_INTENSITY = {\"biogas\":18, \"biomass\":18, \"geo\":42, \"hydro\":4,\n",
    "                        \"imports\":428, \"nuclear\":16, \"smhydro\":4, \"solarpv\":46, \"solarth\":22,\n",
    "                        \"thermal\":469, \"wind\":12}\n",
    "\n",
    "df_carbon = pd.read_csv(\"../data/carbon_scenarios/carbon_x2.csv\", index_col=0, parse_dates=True)\n",
    "df_carbon.index -= pd.Timedelta('7h')\n",
    "\n",
    "df_carbon.dropna(inplace=True)\n",
    "df_carbon.loc[:, 'year'] = df_carbon.index.year\n",
    "df_carbon.loc[:, 'month'] = df_carbon.index.month\n",
    "df_carbon.loc[:, 'hour'] = df_carbon.index.hour\n",
    "\n",
    "print(df_carbon.head())"
   ]
  },
  {
   "cell_type": "code",
   "execution_count": null,
   "metadata": {
    "collapsed": true
   },
   "outputs": [],
   "source": [
    "def loadCAISO(year):\n",
    "    dfp = pd.read_csv(os.path.join(\"../data/CAISO_DailyRenewablesWatch\", 'DailyRenewablesWatch_%d.csv' % year),\n",
    "                      index_col=0, parse_dates=True)\n",
    "    dfp.index -= pd.Timedelta('7h')\n",
    "\n",
    "    cols = [col for col in dfp.columns if col != 'carbon']\n",
    "    dfp[\"total\"] = dfp[cols].sum(axis=1)\n",
    "    CARBON_INTENSITY = {\"biogas\":18, \"biomass\":18, \"geo\":42, \"hydro\":4,\n",
    "                        \"imports\":428, \"nuclear\":16, \"smhydro\":4, \"solarpv\":46, \"solarth\":22,\n",
    "                        \"thermal\":469, \"wind\":12}\n",
    "\n",
    "    # recalculate carbon without the exports\n",
    "    dfp[\"carbon\"] = dfp.apply(lambda row:sum(row[fuel]*CARBON_INTENSITY[fuel]\n",
    "                                           for fuel in CARBON_INTENSITY)/1e3, axis=1)\n",
    "    dfp[\"carbon_intensity\"] = dfp.apply(lambda row:row[\"carbon\"]*1e3/row[\"total\"], axis=1)\n",
    "    return dfp\n",
    "\n",
    "df = pd.concat([loadCAISO(y) for y in [2015,2016,2017,2018]])\n",
    "\n",
    "df.dropna(inplace=True)\n",
    "df.loc[:, 'year'] = df.index.year\n",
    "df.loc[:, 'month'] = df.index.month\n",
    "df.loc[:, 'hour'] = df.index.hour"
   ]
  },
  {
   "cell_type": "code",
   "execution_count": null,
   "metadata": {
    "collapsed": false
   },
   "outputs": [],
   "source": [
    "plt.plot(df_carbon.carbon_intensity.values)\n",
    "plt.plot(df.carbon_intensity.values)"
   ]
  },
  {
   "cell_type": "markdown",
   "metadata": {},
   "source": [
    "# Figure 1\n",
    "Yearly carbon intensity of each year, all on the same plot"
   ]
  },
  {
   "cell_type": "code",
   "execution_count": null,
   "metadata": {
    "collapsed": false
   },
   "outputs": [],
   "source": [
    "grp_15 = df.loc[pd.to_datetime(\"2015-01-01\"):pd.to_datetime(\"2015-12-01\"),\n",
    "                [\"carbon_intensity\", \"year\", \"hour\"]].groupby([\"year\", \"hour\"]).mean()\n",
    "grp_16 = df.loc[pd.to_datetime(\"2016-01-01\"):pd.to_datetime(\"2016-12-01\"),\n",
    "                [\"carbon_intensity\", \"year\", \"hour\"]].groupby([\"year\", \"hour\"]).mean()\n",
    "grp_17 = df.loc[pd.to_datetime(\"2017-01-01\"):pd.to_datetime(\"2017-12-01\"),\n",
    "                [\"carbon_intensity\", \"year\", \"hour\"]].groupby([\"year\", \"hour\"]).mean()\n",
    "grp_18 = df.loc[pd.to_datetime(\"2018-01-01\"):pd.to_datetime(\"2018-12-01\"),\n",
    "                [\"carbon_intensity\", \"year\", \"hour\"]].groupby([\"year\", \"hour\"]).mean()\n",
    "grp_25 = df_carbon.loc[:,[\"carbon_intensity\", \"year\", \"hour\"]].groupby([\"year\", \"hour\"]).mean()\n",
    "\n",
    "# April of each year, all on the same plot\n",
    "#f, ax = plt.subplots(1, 1, figsize=(6,4))\n",
    "f, ax = plt.subplots(1, 1)\n",
    "ax.axvspan(0, 6, facecolor='b', alpha=0.05)\n",
    "ax.axvspan(19, 23, facecolor='b', alpha=0.05)\n",
    "ax.axvspan(6, 19, facecolor='y', alpha=0.05)\n",
    "ax.text(10,300, \"DAYTIME\")\n",
    "\n",
    "\n",
    "\n",
    "for igrp, grp in zip([2015,2016, 2017, 2018, 2025],[grp_15,grp_16, grp_17, grp_18, grp_25]):\n",
    "    ls=\"-\"\n",
    "    sel = igrp\n",
    "    if igrp == 2025:\n",
    "        ls = \"--\"\n",
    "        sel = 2016\n",
    "    ax.plot(grp.loc[sel, \"carbon_intensity\"], label=igrp, lw=2, ls=ls)\n",
    "ax.grid(True)\n",
    "ax.legend(loc=2, bbox_to_anchor=(0.8, 0.8))\n",
    "ax.set_xlim([0,23])\n",
    "ax.set_ylim([0,350])\n",
    "ax.set_xlabel('hour')\n",
    "ax.set_title('Average hourly EFs in California');\n",
    "ax.set_ylabel('kg/MWh');\n",
    "plt.tight_layout()\n",
    "plt.savefig('figures/fig1.pdf')\n",
    "plt.savefig('figures/fig1.png')"
   ]
  },
  {
   "cell_type": "code",
   "execution_count": null,
   "metadata": {
    "collapsed": true
   },
   "outputs": [],
   "source": [
    "# Split into different years\n",
    "df16 = df.loc[pd.to_datetime(\"2016-01-01\"):pd.to_datetime(\"2017-01-01\"),:].copy(deep=True)\n",
    "df18 = df.loc[pd.to_datetime(\"2017-11-01\"):pd.to_datetime(\"2018-11-01\"),:].copy(deep=True)\n",
    "df25 = df.loc[pd.to_datetime(\"2016-01-01\"):pd.to_datetime(\"2017-01-01\"),:].copy(deep=True)\n",
    "df25[\"carbon_intensity\"] = df_carbon[\"carbon_intensity\"]"
   ]
  },
  {
   "cell_type": "code",
   "execution_count": null,
   "metadata": {
    "collapsed": true
   },
   "outputs": [],
   "source": [
    "# Hourly Emissions analysis (in ktonnes)\n",
    "\n",
    "# Calculate references (2016)\n",
    "footprint_h_16 = df16.carbon_intensity.sum() * 1e-6\n",
    "footprint_y_16 = df16.carbon_intensity.mean() * len(df16.solarpv) * 1e-6\n",
    "\n",
    "# Choose scenario\n",
    "def calcs(df, verb=0):\n",
    "    # Scale wind and solar data\n",
    "    df.loc[:,\"wind_100\"] = df.loc[:, \"wind\"] * len(df) / df.wind.sum()\n",
    "    df.loc[:,\"wind_50\"] = 0.5 * df.loc[:, \"wind\"] * len(df) / df.wind.sum()\n",
    "    df.loc[:,\"solarpv_100\"] = df.loc[:, \"solarpv\"] * len(df) / df.solarpv.sum()\n",
    "    df.loc[:,\"solarpv_50\"] = 0.5 * df.loc[:, \"solarpv\"] * len(df) / df.solarpv.sum()\n",
    "    \n",
    "    # Hourly calcs\n",
    "    footprint_h = 1 * df.carbon_intensity.sum() * 1e-6\n",
    "    df.loc[:,\"avoided100_s_h\"] = df.solarpv_100 * (df.carbon_intensity - CARBON_INTENSITY['solarpv'])\n",
    "    df.loc[:,\"avoided100_w_h\"] = df.wind_100 * (df.carbon_intensity - CARBON_INTENSITY['wind'])\n",
    "    df.loc[:,\"avoided5050_h\"] = (df.solarpv_50 * (df.carbon_intensity - CARBON_INTENSITY['solarpv'])\n",
    "                                 + df.wind_50 * (df.carbon_intensity - CARBON_INTENSITY['wind']))\n",
    "    avoided100_s_h = np.nansum(df.avoided100_s_h) * 1e-6\n",
    "    avoided100_w_h = np.nansum(df.avoided100_w_h) * 1e-6\n",
    "    avoided5050_h = np.nansum(df.avoided5050_h) * 1e-6\n",
    "    \n",
    "    # Note: I multiply by 1MW because I am considering a 1MW constant load in this study\n",
    "    df.loc[:,\"footprint100_s_h\"] = 1 * df.carbon_intensity - df.avoided100_s_h\n",
    "    df.loc[:,\"footprint100_w_h\"] = 1 * df.carbon_intensity - df.avoided100_w_h\n",
    "    df.loc[:,\"footprint5050_h\"] = 1 * df.carbon_intensity - df.avoided5050_h\n",
    "    \n",
    "    footprint_100_s_h = footprint_h - avoided100_s_h\n",
    "    footprint_100_w_h = footprint_h - avoided100_w_h\n",
    "    footprint_5050_h = footprint_h - avoided5050_h\n",
    "    \n",
    "    if verb > 0:\n",
    "        print(\"Hourly\")\n",
    "        print(\"Emissions footprint: %g\" % footprint_h)\n",
    "        print(\"Avoided tons 100 %% solar: %g\" % avoided100_s_h)\n",
    "        print(\"Avoided tons 100 %% wind: %g\" % avoided100_w_h)\n",
    "        print(\"Avoided tons 50 %% wind, 50 %% solar: %g\" % avoided5050_h)\n",
    "\n",
    "    # Yearly calcs\n",
    "    GRID_AVG_CARBON = df.carbon_intensity.mean()\n",
    "    footprint_y = GRID_AVG_CARBON * len(df.carbon_intensity) * 1e-6\n",
    "    df.loc[:,\"avoided100_s_y\"] = df.solarpv_100 * (GRID_AVG_CARBON-CARBON_INTENSITY['solarpv'])\n",
    "    df.loc[:,\"avoided100_w_y\"] = df.wind_100 * (GRID_AVG_CARBON-CARBON_INTENSITY['wind'])\n",
    "    df.loc[:,\"avoided5050_y\"] = (df.solarpv_50 * (GRID_AVG_CARBON-CARBON_INTENSITY['solarpv'])\n",
    "                                 + df.wind_50 * (GRID_AVG_CARBON-CARBON_INTENSITY['wind']))\n",
    "    avoided100_s_y =  np.nansum(df.avoided100_s_y) * 1e-6\n",
    "    avoided100_w_y = np.nansum(df.avoided100_w_y) * 1e-6\n",
    "    avoided5050_y = np.nansum(df.avoided5050_y) * 1e-6\n",
    "    footprint_100_s_y = footprint_y-avoided100_s_y\n",
    "    footprint_100_w_y = footprint_y-avoided100_w_y\n",
    "    footprint_5050_y = footprint_y-avoided5050_y\n",
    "    \n",
    "    if verb > 0:\n",
    "        print(\"\\nYearly\")\n",
    "        print(\"Emissions footprint: %g\" % footprint_y)\n",
    "        print(\"Avoided tons 100 %% solar: %g\" % avoided100_s_y)\n",
    "        print(\"Avoided tons 100 %% wind: %g\" % avoided100_w_y)\n",
    "        print(\"Avoided tons 50 %% wind, 50 %% solar: %g\" % avoided5050_y)\n",
    "\n",
    "    # Summary dataframe to hold the results\n",
    "    df_sum = pd.DataFrame(\n",
    "        index=[\"Grid\", \"solar100\", \"wind100\", \"sw5050\"],\n",
    "        columns=[\"indirect_CO2_H\", \"avoided_CO2_H\", \"indirect_red_H\",\n",
    "                 \"indirect_CO2_Y\", \"avoided_CO2_Y\", \"indirect_red_Y\"])\n",
    "\n",
    "    df_sum.loc[\"Grid\",:] = [footprint_h, 0., (footprint_h_16-footprint_h)/footprint_h_16,\n",
    "                            footprint_y, 0.,(footprint_y_16-footprint_y)/footprint_y_16]\n",
    "    df_sum.loc[\"solar100\",:] = [footprint_100_s_h, avoided100_s_h, (footprint_h_16-footprint_100_s_h)/footprint_h_16,\n",
    "                            footprint_100_s_y, avoided100_s_y,(footprint_y_16-footprint_100_s_y)/footprint_y_16]\n",
    "    df_sum.loc[\"wind100\",:] = [footprint_100_w_h, avoided100_w_h, (footprint_h_16-footprint_100_w_h)/footprint_h_16,\n",
    "                            footprint_100_w_y, avoided100_w_y, (footprint_y_16-footprint_100_w_y)/footprint_y_16]\n",
    "    df_sum.loc[\"sw5050\",:] = [footprint_5050_h, avoided5050_h, (footprint_h_16-footprint_5050_h)/footprint_h_16,\n",
    "                            footprint_5050_y, avoided5050_y, (footprint_y_16-footprint_5050_y)/footprint_y_16]\n",
    "    return df_sum\n",
    "\n",
    "df_sum16 = calcs(df16)\n",
    "df_sum18 = calcs(df18)\n",
    "df_sum25 = calcs(df25)"
   ]
  },
  {
   "cell_type": "code",
   "execution_count": null,
   "metadata": {
    "collapsed": false
   },
   "outputs": [],
   "source": [
    "df_sum16"
   ]
  },
  {
   "cell_type": "code",
   "execution_count": null,
   "metadata": {
    "collapsed": false
   },
   "outputs": [],
   "source": [
    "df_sum18"
   ]
  },
  {
   "cell_type": "code",
   "execution_count": null,
   "metadata": {
    "collapsed": false
   },
   "outputs": [],
   "source": [
    "df_sum25"
   ]
  },
  {
   "cell_type": "code",
   "execution_count": null,
   "metadata": {
    "collapsed": false
   },
   "outputs": [],
   "source": [
    "df18.month = df18.index.month\n",
    "df18.hour = df18.index.hour\n",
    "grped = df18.loc[:,[\n",
    "        \"carbon_intensity\",\"avoided100_s_h\", \"avoided100_w_h\",\n",
    "        \"avoided5050_h\", \"footprint100_s_h\", \"footprint100_w_h\",\n",
    "        \"footprint5050_h\", \"month\", \"hour\"]].groupby([\n",
    "        \"month\", \"hour\"]).mean()\n",
    "f, axes = plt.subplots(2, 3, figsize=(15,6))\n",
    "for ax in axes.flatten():\n",
    "    ax.axvspan(0, 6, facecolor='b', alpha=0.05)\n",
    "    ax.axvspan(19, 23, facecolor='b', alpha=0.05)\n",
    "    ax.axvspan(6, 19, facecolor='y', alpha=0.05)\n",
    "    \n",
    "for m, ax in zip([1, 5, 8], axes[0]):\n",
    "    ax.plot([0,23],[0,0], lw=2, label=\"No gen.\", color=COLORS[0])\n",
    "    ax.plot(grped.loc[m, \"avoided100_w_h\"], lw=2, label=\"100% wind\", color=COLORS[2])\n",
    "    ax.plot(grped.loc[m, \"avoided5050_h\"], lw=2, label=\"50-50%\", color=COLORS[1])\n",
    "    ax.plot(grped.loc[m, \"avoided100_s_h\"], lw=2, label=\"100% solar\", color=COLORS[3])\n",
    "    \n",
    "    ax.text(7,500, \"DAYTIME - %s\" % calendar.month_abbr[m].upper())\n",
    "\n",
    "for m, ax in zip([1, 5, 8], axes[1]):\n",
    "    ax.plot(grped.loc[m, \"carbon_intensity\"], lw=2, label=\"No gen.\", color=COLORS[0])\n",
    "    ax.plot(grped.loc[m, \"footprint100_w_h\"], lw=2, label=\"100% wind\", color=COLORS[2])\n",
    "    ax.plot(grped.loc[m, \"footprint5050_h\"], lw=2, label=\"50-50%\", color=COLORS[1])\n",
    "    ax.plot(grped.loc[m, \"footprint100_s_h\"], lw=2, label=\"100% solar\", color=COLORS[3])\n",
    "    \n",
    "    \n",
    "    ax.text(7,250, \"DAYTIME - %s\" % calendar.month_abbr[m].upper())\n",
    "    \n",
    "for ax in axes.flatten():\n",
    "    ax.set_xlim([0,23])\n",
    "    ax.grid(True)\n",
    "    \n",
    "for ax in axes[0]:\n",
    "    ax.set_ylim([-8,600])\n",
    "    ax.set_ylabel('CO2 credit (kg)')\n",
    "\n",
    "for ax in axes[1]:\n",
    "    ax.set_ylim([-350,350])\n",
    "    ax.set_ylabel('CO2 footprint (kg)')\n",
    "    ax.set_xlabel('hour')\n",
    "\n",
    "axes[-1][0].legend(loc=3)#, bbox_to_anchor=(1.7, 0.5))\n",
    "\n",
    "plt.tight_layout()\n",
    "plt.savefig('figures/fig2a.pdf')\n",
    "plt.savefig('figures/fig2a.png')\n"
   ]
  },
  {
   "cell_type": "code",
   "execution_count": null,
   "metadata": {
    "collapsed": false
   },
   "outputs": [],
   "source": [
    "df25.month = df25.index.month\n",
    "df25.hour = df25.index.hour\n",
    "\n",
    "grped = df25.loc[:,[\n",
    "        \"carbon_intensity\",\"avoided100_s_h\", \"avoided100_w_h\",\n",
    "        \"avoided5050_h\", \"footprint100_s_h\", \"footprint100_w_h\",\n",
    "        \"footprint5050_h\", \"month\", \"hour\"]].groupby([\n",
    "        \"month\", \"hour\"]).mean()\n",
    "f, axes = plt.subplots(2, 3, figsize=(15,6))\n",
    "for ax in axes.flatten():\n",
    "    ax.axvspan(0, 6, facecolor='b', alpha=0.05)\n",
    "    ax.axvspan(19, 23, facecolor='b', alpha=0.05)\n",
    "    ax.axvspan(6, 19, facecolor='y', alpha=0.05)\n",
    "    \n",
    "for m, ax in zip([1, 5, 8], axes[0]):\n",
    "    ax.plot([0,23],[0,0], lw=2, label=\"No gen.\", color=COLORS[0])\n",
    "    ax.plot(grped.loc[m, \"avoided100_w_h\"], lw=2, label=\"100% wind\", color=COLORS[2])\n",
    "    ax.plot(grped.loc[m, \"avoided5050_h\"], lw=2, label=\"50-50%\", color=COLORS[1])\n",
    "    ax.plot(grped.loc[m, \"avoided100_s_h\"], lw=2, label=\"100% solar\", color=COLORS[3])\n",
    "    \n",
    "    ax.text(7,500, \"DAYTIME - %s\" % calendar.month_abbr[m].upper())\n",
    "\n",
    "for m, ax in zip([1, 5, 8], axes[1]):\n",
    "    ax.plot(grped.loc[m, \"carbon_intensity\"], lw=2, label=\"No gen.\", color=COLORS[0])\n",
    "    ax.plot(grped.loc[m, \"footprint100_w_h\"], lw=2, label=\"100% wind\", color=COLORS[2])\n",
    "    ax.plot(grped.loc[m, \"footprint5050_h\"], lw=2, label=\"50-50%\", color=COLORS[1])\n",
    "    ax.plot(grped.loc[m, \"footprint100_s_h\"], lw=2, label=\"100% solar\", color=COLORS[3])\n",
    "    ax.text(7,250, \"DAYTIME - %s\" % calendar.month_abbr[m].upper())\n",
    "    \n",
    "for ax in axes.flatten():\n",
    "    ax.set_xlim([0,23])\n",
    "    ax.grid(True)\n",
    "    \n",
    "for ax in axes[0]:\n",
    "    ax.set_ylim([-8,600])\n",
    "    ax.set_ylabel('CO2 credit (kg)')\n",
    "\n",
    "for ax in axes[1]:\n",
    "    ax.set_ylim([-350,350])\n",
    "    ax.set_ylabel('CO2 footprint (kg)')\n",
    "    ax.set_xlabel('hour')\n",
    "\n",
    "axes[-1][0].legend(loc=3)#, bbox_to_anchor=(1.7, 0.5))\n",
    "\n",
    "plt.tight_layout()\n",
    "plt.savefig('figures/fig2b.pdf')\n",
    "plt.savefig('figures/fig2b.png')\n"
   ]
  },
  {
   "cell_type": "code",
   "execution_count": null,
   "metadata": {
    "collapsed": true
   },
   "outputs": [],
   "source": []
  }
 ],
 "metadata": {
  "anaconda-cloud": {},
  "kernelspec": {
   "display_name": "Python [conda env:anaconda3]",
   "language": "python",
   "name": "conda-env-anaconda3-py"
  },
  "language_info": {
   "codemirror_mode": {
    "name": "ipython",
    "version": 3
   },
   "file_extension": ".py",
   "mimetype": "text/x-python",
   "name": "python",
   "nbconvert_exporter": "python",
   "pygments_lexer": "ipython3",
   "version": "3.5.6"
  }
 },
 "nbformat": 4,
 "nbformat_minor": 2
}
