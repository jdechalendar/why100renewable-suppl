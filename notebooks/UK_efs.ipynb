{
 "cells": [
  {
   "cell_type": "code",
   "execution_count": null,
   "metadata": {
    "collapsed": true
   },
   "outputs": [],
   "source": [
    "%matplotlib inline\n",
    "import pandas as pd\n",
    "import matplotlib.pyplot as plt\n",
    "from sklearn.linear_model import LinearRegression"
   ]
  },
  {
   "cell_type": "code",
   "execution_count": null,
   "metadata": {
    "collapsed": true
   },
   "outputs": [],
   "source": [
    "COLORS = [(0.12109375, 0.46484375, 0.703125),\n",
    "          (0.99609375, 0.49609375, 0.0546875),\n",
    "          (0.171875, 0.625, 0.171875),\n",
    "          (0.8359375, 0.15234375, 0.15625),\n",
    "          (0.578125, 0.40234375, 0.73828125),\n",
    "          (0.546875, 0.3359375, 0.29296875),\n",
    "          (0.88671875, 0.46484375, 0.7578125),\n",
    "          (0.49609375, 0.49609375, 0.49609375),\n",
    "          (0.734375, 0.73828125, 0.1328125),\n",
    "          (0.08984375, 0.7421875, 0.80859375)]\n",
    "\n",
    "import calendar\n",
    "\n",
    "# Set font sizes\n",
    "SMALL_SIZE = 16\n",
    "MEDIUM_SIZE = 18\n",
    "BIGGER_SIZE = 20\n",
    "                \n",
    "plt.rc('font', size=SMALL_SIZE)          # controls default text sizes\n",
    "plt.rc('axes', titlesize=SMALL_SIZE)     # fontsize of the axes title\n",
    "plt.rc('axes', labelsize=MEDIUM_SIZE)    # fontsize of the x and y labels\n",
    "plt.rc('xtick', labelsize=SMALL_SIZE)    # fontsize of the tick labels\n",
    "plt.rc('ytick', labelsize=SMALL_SIZE)    # fontsize of the tick labels\n",
    "plt.rc('legend', fontsize=SMALL_SIZE)    # legend fontsize\n",
    "plt.rc('figure', titlesize=BIGGER_SIZE)  # fontsize of the figure title"
   ]
  },
  {
   "cell_type": "code",
   "execution_count": null,
   "metadata": {
    "collapsed": false
   },
   "outputs": [],
   "source": [
    "df = pd.read_csv(\"../data/Elexon/UK_data.csv\", index_col=0, parse_dates=True)\n",
    "\n",
    "CARBON_INTENSITY = {\"biomass\": 18, \"hydro\": 4, \"nuclear\": 16,\n",
    "                    \"solar\": 46, \"gas\": 469, \"wind\": 12,\n",
    "                    \"coal\": 1001, \"oil\": 840}\n",
    "col_map = dict(zip(['Biomass', 'Fossil Gas', 'Fossil Hard coal', 'Fossil Oil',\n",
    "       'Hydro Pumped Storage', 'Hydro Run-of-river and poundage',\n",
    "       'Nuclear', 'Other', 'Solar', 'Wind Offshore', 'Wind Onshore'],\n",
    "                  ['biomass', \"gas\", \"coal\", \"oil\", \"hydrop\", \"hydror\", \"nuclear\", \"other\", \"solar\", \"wind1\", \"wind2\"]))\n",
    "\n",
    "df = df.rename(col_map, axis=1)\n",
    "df[\"wind\"] = df[\"wind1\"] + df[\"wind2\"]\n",
    "df[\"hydro\"] = df[\"hydrop\"] + df[\"hydror\"]\n",
    "df = df.drop([\"wind1\", \"wind2\", \"hydrop\", \"hydror\", \"other\"], axis=1)\n",
    "df = df.fillna(0)\n",
    "\n",
    "df[\"total\"] = df.sum(axis=1)\n",
    "print(\"Dropping %d rows with 0 generation\" % len(df[df[\"total\"] == 0.]))\n",
    "df = df[df[\"total\"] > 0.]\n",
    "df[\"carbon_intensity\"] = df.apply(\n",
    "    lambda row:sum(row[fuel] * CARBON_INTENSITY[fuel] for fuel\n",
    "                   in CARBON_INTENSITY)/row[\"total\"], axis=1)\n",
    "\n",
    "df[\"year\"] = df.index.year\n",
    "df[\"month\"] = df.index.month\n",
    "df[\"hour\"] = df.index.hour\n",
    "\n",
    "# Compute totals for dispatchable generation\n",
    "cols = [\"biomass\", \"hydro\", \"nuclear\", \"gas\", \"oil\", \"coal\"]\n",
    "df[\"total_D\"] = df[cols].sum(axis=1)\n",
    "df[\"carbon_D\"] = df.apply(lambda row:sum(row[fuel]*CARBON_INTENSITY[fuel]\n",
    "                                           for fuel in cols)/1e3, axis=1)"
   ]
  },
  {
   "cell_type": "code",
   "execution_count": null,
   "metadata": {
    "collapsed": false
   },
   "outputs": [],
   "source": [
    "aefs = df.loc[:, [\"year\", \"hour\", \"carbon_intensity\"]].groupby([\"year\", \"hour\"]).mean()\n",
    "aefs = aefs.unstack(level='year')\n",
    "aefs.columns = aefs.columns.droplevel()\n",
    "\n",
    "mefs = dict()\n",
    "df_diff = df.diff().dropna()\n",
    "df_diff[\"hour\"] = df_diff.index.hour\n",
    "for y in range(2015, 2019):\n",
    "    mefs[y] = []\n",
    "    start = pd.to_datetime(\"%d-01-01\" %y)\n",
    "    end = pd.to_datetime(\"%d-01-01\" % (y+1))\n",
    "    for h in range(24):\n",
    "        sel = (df_diff.hour == h) & (df_diff.index>start) & (df_diff.index<end)\n",
    "\n",
    "        lr = LinearRegression()\n",
    "        lr.fit(df_diff[sel].total_D.values.reshape(-1,1), df_diff[sel].carbon_D.values.reshape(-1,1))\n",
    "        mefs[y].append(1000 * lr.coef_[0][0])\n",
    "mefs = pd.DataFrame(mefs)"
   ]
  },
  {
   "cell_type": "code",
   "execution_count": null,
   "metadata": {
    "collapsed": false
   },
   "outputs": [],
   "source": [
    "f, ax = plt.subplots()\n",
    "\n",
    "ax.axvspan(0, 6, facecolor='b', alpha=0.05)\n",
    "ax.axvspan(19, 23, facecolor='b', alpha=0.05)\n",
    "ax.axvspan(6, 19, facecolor='y', alpha=0.05)\n",
    "ax.text(10, 100, \"DAYTIME\")\n",
    "\n",
    "for i, y in enumerate(range(2015, 2019)):\n",
    "    ax.plot(mefs[y], label=str(y), color=COLORS[i])\n",
    "    ax.plot(aefs[y], color=COLORS[i], marker='o')\n",
    "\n",
    "ax.grid(True)\n",
    "ax.set_xlim([0,23])\n",
    "ax.set_ylim([0,800])\n",
    "ax.set_xlabel('Hour of the day')\n",
    "ax.set_title('(b) Great Britain: hourly AEFs and MEFs');\n",
    "ax.set_ylabel('kg/MWh');\n",
    "ax.set_ylabel('kg/MWh');\n",
    "ax.set_yticks([0, 150, 300, 600, 750])\n",
    "ax.set_yticks([CARBON_INTENSITY[\"solar\"], CARBON_INTENSITY[\"gas\"]], minor=True)\n",
    "ax.set_yticklabels([\"Solar\", \"Gas\"], minor=True)\n",
    "plt.savefig('figures/fig1b.pdf', bbox_inches='tight')\n",
    "plt.savefig('figures/fig1b.png', bbox_inches='tight')\n",
    "\n",
    "# Save data for later use\n",
    "mefs.to_csv('figures/UK_mefs.csv')\n",
    "aefs.to_csv('figures/UK_aefs.csv')"
   ]
  },
  {
   "cell_type": "code",
   "execution_count": null,
   "metadata": {
    "collapsed": false
   },
   "outputs": [],
   "source": [
    "f, ax = plt.subplots(figsize=(15, 5))\n",
    "ax.plot(df.carbon_intensity)\n",
    "ax.set_ylabel(\"AEFs (kg/MWh)\")\n",
    "ax.grid()\n",
    "plt.savefig('figures/UK_AEFs.pdf', bbox_inches='tight')"
   ]
  },
  {
   "cell_type": "code",
   "execution_count": null,
   "metadata": {
    "collapsed": false
   },
   "outputs": [],
   "source": [
    "src_cols = ['biomass', 'gas', 'coal', 'oil', 'nuclear',\n",
    "            'solar', 'wind', 'hydro']\n",
    "df_plot = df.loc[:, [\"year\", \"month\", \"total\"] + src_cols].groupby([\"year\", \"month\"]).sum()\n",
    "df_plot = df_plot.reset_index()\n",
    "df_plot.index = pd.to_datetime((df_plot.year*10000+df_plot.month*100+1).apply(str),format='%Y%m%d')\n",
    "f, ax = plt.subplots(figsize=(15, 5))\n",
    "for src in src_cols:\n",
    "    ax.plot(100*(df_plot[src]/df_plot.total), label=src)\n",
    "ax.set_ylabel(\"Grid mix (%)\")\n",
    "ax.legend()\n",
    "ax.grid()\n",
    "plt.savefig('figures/UK_gridmix.pdf', bbox_inches='tight')"
   ]
  },
  {
   "cell_type": "code",
   "execution_count": null,
   "metadata": {
    "collapsed": false
   },
   "outputs": [],
   "source": [
    "df_ann = df.loc[:, [\"year\", \"total\"] + src_cols].groupby([\"year\"]).sum()\n",
    "df_ann"
   ]
  },
  {
   "cell_type": "code",
   "execution_count": null,
   "metadata": {
    "collapsed": false
   },
   "outputs": [],
   "source": [
    "print(\"\\t\\t2015\\t2016\\t2018\")\n",
    "for col in src_cols + [\"total\"]:\n",
    "    data15 = 100 * df_ann.loc[2015, col] / df_ann.loc[2015, \"total\"]\n",
    "    data16 = 100 * df_ann.loc[2016, col] / df_ann.loc[2016, \"total\"]\n",
    "    data18 = 100 * df_ann.loc[2018, col] / df_ann.loc[2018, \"total\"]\n",
    "    print(\"%s\\t:\\t%.2f\\t%.2f\\t%.2f\" % (col, data15, data16, data18))"
   ]
  },
  {
   "cell_type": "code",
   "execution_count": null,
   "metadata": {
    "collapsed": true
   },
   "outputs": [],
   "source": []
  }
 ],
 "metadata": {
  "anaconda-cloud": {},
  "kernelspec": {
   "display_name": "Python [conda env:anaconda3]",
   "language": "python",
   "name": "conda-env-anaconda3-py"
  },
  "language_info": {
   "codemirror_mode": {
    "name": "ipython",
    "version": 3
   },
   "file_extension": ".py",
   "mimetype": "text/x-python",
   "name": "python",
   "nbconvert_exporter": "python",
   "pygments_lexer": "ipython3",
   "version": "3.5.6"
  }
 },
 "nbformat": 4,
 "nbformat_minor": 2
}
